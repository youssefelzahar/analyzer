{
 "cells": [
  {
   "cell_type": "code",
   "execution_count": 4,
   "metadata": {},
   "outputs": [
    {
     "data": {
      "text/plain": [
       "array([14,  8,  8,  0,  3,  9, 17,  8,  8,  8])"
      ]
     },
     "execution_count": 4,
     "metadata": {},
     "output_type": "execute_result"
    }
   ],
   "source": [
    "import joblib\n",
    "\n",
    "# Load model and vectorizer\n",
    "model = joblib.load(\"models/model.pkl\")\n",
    "vectorizer = joblib.load(\"models/model_vectorizer.pkl\")\n",
    "\n",
    "examples = [\n",
    "    \"Netflix monthly subscription\",\n",
    "    \"Uber ride to the airport\",\n",
    "    \"Lunch at McDonald's\",\n",
    "    \"Salary from company\",\n",
    "    \"Electricity bill payment\",\n",
    "    \"Grocery shopping at Walmart\",\n",
    "    \"Amazon online purchase\",\n",
    "    \"Doctor visit for checkup\",\n",
    "    \"Apple iTunes charge\",\n",
    "    \"Flight ticket from Cairo to Dubai\"\n",
    "]\n",
    "\n",
    "X_test = vectorizer.transform(examples)\n",
    "predictions = model.predict(X_test)\n",
    "predictions\n",
    "\n"
   ]
  }
 ],
 "metadata": {
  "kernelspec": {
   "display_name": ".venv",
   "language": "python",
   "name": "python3"
  },
  "language_info": {
   "codemirror_mode": {
    "name": "ipython",
    "version": 3
   },
   "file_extension": ".py",
   "mimetype": "text/x-python",
   "name": "python",
   "nbconvert_exporter": "python",
   "pygments_lexer": "ipython3",
   "version": "3.13.5"
  }
 },
 "nbformat": 4,
 "nbformat_minor": 2
}
