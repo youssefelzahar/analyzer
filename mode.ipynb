{
 "cells": [
  {
   "cell_type": "code",
   "execution_count": 4,
   "metadata": {},
   "outputs": [
    {
     "name": "stdout",
     "output_type": "stream",
     "text": [
      "<class 'pandas.core.frame.DataFrame'>\n",
      "RangeIndex: 647 entries, 0 to 646\n",
      "Data columns (total 6 columns):\n",
      " #   Column            Non-Null Count  Dtype         \n",
      "---  ------            --------------  -----         \n",
      " 0   Date              647 non-null    datetime64[ns]\n",
      " 1   Description       647 non-null    object        \n",
      " 2   Amount            647 non-null    float64       \n",
      " 3   Transaction Type  647 non-null    object        \n",
      " 4   Category          647 non-null    object        \n",
      " 5   Account Name      647 non-null    object        \n",
      "dtypes: datetime64[ns](1), float64(1), object(4)\n",
      "memory usage: 30.5+ KB\n",
      "Column: Date\n",
      "Outliers: 0\n",
      "Column: Amount\n",
      "Outliers: 0\n"
     ]
    },
    {
     "name": "stderr",
     "output_type": "stream",
     "text": [
      "<>:2: SyntaxWarning: invalid escape sequence '\\p'\n",
      "<>:2: SyntaxWarning: invalid escape sequence '\\p'\n",
      "C:\\Users\\youss\\AppData\\Local\\Temp\\ipykernel_5368\\2608388552.py:2: SyntaxWarning: invalid escape sequence '\\p'\n",
      "  data = pandas.read_csv(\"data\\personal_transactions_cleaned.csv\", parse_dates=[\"Date\"])\n"
     ]
    },
    {
     "data": {
      "text/plain": [
       "np.float64(-0.18599986313704486)"
      ]
     },
     "execution_count": 4,
     "metadata": {},
     "output_type": "execute_result"
    }
   ],
   "source": [
    "import pandas as pandas\n",
    "data = pandas.read_csv(\"data\\personal_transactions_cleaned.csv\", parse_dates=[\"Date\"])\n",
    "data.info()     \n",
    "def check_outliers(df):\n",
    "    for col in df.columns:\n",
    "        if df[col].dtype != 'object':\n",
    "            q1 = df[col].quantile(0.25)\n",
    "            q3 = df[col].quantile(0.75)\n",
    "            iqr = q3 - q1\n",
    "            lower_bound = q1 - (1.5 * iqr)\n",
    "            upper_bound = q3 + (1.5 * iqr)\n",
    "            outliers = df[(df[col] < lower_bound) | (df[col] > upper_bound)]\n",
    "            print(f\"Column: {col}\")\n",
    "            print(f\"Outliers: {len(outliers)}\")\n",
    "    return df\n",
    "check_outliers(data)  \n",
    "data[\"Amount\"].skew() "
   ]
  },
  {
   "cell_type": "code",
   "execution_count": null,
   "metadata": {},
   "outputs": [],
   "source": []
  }
 ],
 "metadata": {
  "kernelspec": {
   "display_name": ".venv",
   "language": "python",
   "name": "python3"
  },
  "language_info": {
   "codemirror_mode": {
    "name": "ipython",
    "version": 3
   },
   "file_extension": ".py",
   "mimetype": "text/x-python",
   "name": "python",
   "nbconvert_exporter": "python",
   "pygments_lexer": "ipython3",
   "version": "3.13.5"
  }
 },
 "nbformat": 4,
 "nbformat_minor": 2
}
